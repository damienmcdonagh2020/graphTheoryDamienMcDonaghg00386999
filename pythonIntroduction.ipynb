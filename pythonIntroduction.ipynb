{
  "cells": [
    {
      "cell_type": "markdown",
      "metadata": {},
      "source": [
        "### Graph Theory\n",
        "***\n"
      ]
    },
    {
      "cell_type": "markdown",
      "metadata": {},
      "source": [
        "A graph is a visual representation of data that uses lines, bars, dots, or other symbols to show the relationship between variables. It is a powerful tool for presenting complex information in a clear and concise manner. Graphs are commonly used in scientific research, business, and many other fields to help people understand data quickly and easily. There are many types of graphs, including line graphs, bar graphs, scatter plots, and more. Each type of graph has its own strengths and weaknesses, and choosing the right one depends on the data being presented and the audience that will be viewing it."
      ]
    },
    {
      "cell_type": "markdown",
      "metadata": {},
      "source": [
        "***\n"
      ]
    },
    {
      "cell_type": "markdown",
      "metadata": {},
      "source": [
        "A graph G is a mathematical structure consisting of a set of vertices (also known as nodes) and a set of edges (also known as links) connecting them. The notation G = (V, E) is used to denote a graph with V as the set of vertices and E as the set of edges. \n",
        "The number of vertices in a graph is denoted by |V|, while the number of edges is denoted by |E|. A graph with n vertices is called an n-vertex graph, while a graph with m edges is called an m-edge graph.\n",
        "Graph theory has applications in many fields, including computer science, physics, biology, and social sciences. In computer science, graphs are used to represent data structures, such as trees, linked lists, and networks. In physics, graphs are used to represent interactions between particles and to model complex systems, such as the flow of fluids.\n",
        "One of the most famous problems in graph theory is the Four Color Theorem, which states that any map on a plane can be colored with only four colors, such that no two adjacent regions have the same color. This theorem has many practical applications, such as in creating maps and in scheduling exams.\n",
        "Overall, graphs have become an important tool in many different fields due to their ability to represent complex data in a simple and intuitive way. Whether used in computer science, physics, biology or social sciences, understanding graphs and their various properties is essential for anyone interested in analyzing complex data.\n",
        "***"
      ]
    },
    {
      "cell_type": "markdown",
      "metadata": {},
      "source": [
        "### Terms\n",
        "\n",
        "- Set: A Basic construct which contains elements\n",
        "- Tuple: List or array what is finite in length wh\n",
        "- Vertext/Node: All individual data elements are called vertex or a node\n",
        "- Edge: Connecting link between two nodes\n",
        "- Undirected edge: bidirectional\n",
        "- Directed ede: Unidirectional\n",
        "- Weighted edge: An edge with cost on it\n",
        "- Degree: Number of edges connected to a node\n",
        "- Loop: IF two endpoints coincide with each other\n"
      ]
    },
    {
      "cell_type": "markdown",
      "metadata": {},
      "source": [
        "## Examples of Types Of Graphs\n",
        "\n",
        "- ### Trivial Graph: \n",
        "A Graph with only one vertex is called a trivial Graph\n",
        "\n",
        "- ### Simple Graph\n",
        "A Graph with no parrallel edges and no loops ie a trianlge\n",
        "\n",
        "- ### Udirected Graph:\n",
        "Nodes are connected by edges and are all bidirectional \n",
        " \n",
        "- ### Directed graph\n",
        "Nodes are connected by directional edges and can only go in one direction\n",
        "\n",
        "\n"
      ]
    },
    {
      "cell_type": "markdown",
      "metadata": {},
      "source": [
        "![](../../../../Downloads/undirected.png)"
      ]
    },
    {
      "cell_type": "markdown",
      "metadata": {},
      "source": [
        "***"
      ]
    },
    {
      "cell_type": "markdown",
      "metadata": {},
      "source": [
        "## Isomorphism\n",
        "Graphs that have the same number of vertices, edges and connectivity but are different forms are isomprhic. Basically the same graph mathematically but not visually at first\n",
        "***"
      ]
    },
    {
      "cell_type": "markdown",
      "metadata": {},
      "source": [
        "## Isomorphism Problem\n",
        "\n",
        "The computational complexity status of the graph Isomorphism problem is an unsolved problem in computer science. It is difficult to know if it can be solves quickly (polynomial time) or if it belongs to a class of difficult problems (NP-Complete).\n",
        "***"
      ]
    },
    {
      "cell_type": "markdown",
      "metadata": {},
      "source": [
        "### Algorithms\n",
        "## Brute Force Algorithms\n",
        "\n",
        "An algorithm that enumarates and test all permutations of the veritices of a one graph until isomrphism mapping can be found with another graph. Verify that both graphs have the same edges. Using the enumerated permutatation and vice versa. IF all permuations are used and an isomprhism is found the graphs are isomorhic. Time compleixty of this algorithm is O(N2\n",
        "N!) where n is the number of nodes.\n"
      ]
    },
    {
      "cell_type": "markdown",
      "metadata": {},
      "source": [
        "## Networkx Alorithm\n",
        "\n",
        "Algorithm uses a routine to tell of two routed trees are isomprhic deisgned by The design and Analysis of Computer Algorithms by Aho Hopcroft, And Ullman Addison-Wesley Publishing 1974."
      ]
    },
    {
      "cell_type": "markdown",
      "metadata": {},
      "source": [
        "## Python Examples"
      ]
    },
    {
      "cell_type": "markdown",
      "metadata": {},
      "source": [
        "![](../../../../Downloads/directed.png)"
      ]
    },
    {
      "cell_type": "code",
      "execution_count": 26,
      "metadata": {},
      "outputs": [],
      "source": [
        "# Numerical arrays.\n",
        "import numpy as np\n",
        "\n",
        "# Permutations and combinations.\n",
        "import itertools as it"
      ]
    },
    {
      "cell_type": "markdown",
      "metadata": {},
      "source": [
        "In the bellow example, we first import the NetworkX library. Then, we create two graphs G1 and G2 using the Graph() function. We add nodes to the graphs using the add_nodes_from() function, and we add edges to the graphs using the add_edges_from() function.\n",
        "\n",
        "Finally, we use the is_isomorphic() function to determine whether the two graphs are isomorphic or not. If the graphs are isomorphic, the code prints \"The graphs are isomorphic.\" Otherwise, the code prints \"The graphs are not isomorphic.\"\n",
        "\n",
        "Note that the is_isomorphic() function uses an algorithm to check the structural similarity between two graphs. However, this algorithm may not be efficient for very large graphs."
      ]
    },
    {
      "cell_type": "code",
      "execution_count": 27,
      "metadata": {},
      "outputs": [
        {
          "name": "stdout",
          "output_type": "stream",
          "text": [
            "The graphs are isomorphic.\n"
          ]
        }
      ],
      "source": [
        "import networkx as nx\n",
        "\n",
        "# Create two graphs\n",
        "G1 = nx.Graph()\n",
        "G2 = nx.Graph()\n",
        "\n",
        "# Add nodes to the graphs\n",
        "G1.add_nodes_from([1, 2, 3])\n",
        "G2.add_nodes_from(['A', 'B', 'C'])\n",
        "\n",
        "# Add edges to the graphs\n",
        "G1.add_edges_from([(1, 2), (2, 3)])\n",
        "G2.add_edges_from([('A', 'B'), ('B', 'C')])\n",
        "\n",
        "# Determine whether the graphs are isomorphic\n",
        "if nx.is_isomorphic(G1, G2):\n",
        "    print(\"The graphs are isomorphic.\")\n",
        "else:\n",
        "    print(\"The graphs are not isomorphic.\")\n"
      ]
    },
    {
      "cell_type": "code",
      "execution_count": 28,
      "metadata": {},
      "outputs": [
        {
          "data": {
            "image/png": "[encoded data removed]",
            "text/plain": [
              "<Figure size 640x480 with 1 Axes>"
            ]
          },
          "metadata": {},
          "output_type": "display_data"
        }
      ],
      "source": [
        "# Imports.\n",
        "import itertools\n",
        "import numpy as np\n",
        "import matplotlib.pyplot as plt\n",
        "import networkx as nx\n",
        "import math\n",
        "\n",
        "# Networkx drawing parameters.\n",
        "params = {'node_color': 'green', 'node_size': 650, 'font_size': 20, 'with_labels': True}\n",
        "\n",
        "# First graph creation.\n",
        "G = nx.Graph()\n",
        "E = ((0, 1), (1, 2), (2, 3), (3, 4), (0, 4))\n",
        "G.add_edges_from(E)\n",
        "\n",
        "# Draw the graph.\n",
        "nx.draw_circular(G, **params)\n"
      ]
    },
    {
      "cell_type": "code",
      "execution_count": 29,
      "metadata": {},
      "outputs": [
        {
          "data": {
            "image/png": "[encoded data removed]",
            "text/plain": [
              "<Figure size 640x480 with 1 Axes>"
            ]
          },
          "metadata": {},
          "output_type": "display_data"
        }
      ],
      "source": [
        "# Second graph creation.\n",
        "H = nx.Graph()\n",
        "F = ((4, 2), (0, 3), (3, 1), (1, 4))\n",
        "H.add_edges_from(F)\n",
        "\n",
        "# Draw the graph.\n",
        "nx.draw_circular(H, **params)\n"
      ]
    },
    {
      "cell_type": "code",
      "execution_count": 30,
      "metadata": {},
      "outputs": [
        {
          "name": "stdout",
          "output_type": "stream",
          "text": [
            "[[0. 1. 0. 0. 1.]\n",
            " [1. 0. 1. 0. 0.]\n",
            " [0. 1. 0. 1. 0.]\n",
            " [0. 0. 1. 0. 1.]\n",
            " [1. 0. 0. 1. 0.]]\n"
          ]
        }
      ],
      "source": [
        "# Convert the first graph to an adjacency matrix.\n",
        "GMatrix = nx.to_numpy_array(G)\n",
        "print(GMatrix)\n"
      ]
    },
    {
      "cell_type": "code",
      "execution_count": 31,
      "metadata": {},
      "outputs": [
        {
          "name": "stdout",
          "output_type": "stream",
          "text": [
            "[[0. 1. 0. 0. 1.]\n",
            " [1. 0. 0. 0. 0.]\n",
            " [0. 0. 0. 1. 0.]\n",
            " [0. 0. 1. 0. 1.]\n",
            " [1. 0. 0. 1. 0.]]\n"
          ]
        }
      ],
      "source": [
        "# Convert the second graph to an adjacency matrix.\n",
        "HMatrix = nx.to_numpy_array(H)\n",
        "print(HMatrix)\n"
      ]
    },
    {
      "cell_type": "code",
      "execution_count": 32,
      "metadata": {},
      "outputs": [
        {
          "name": "stdout",
          "output_type": "stream",
          "text": [
            "The graphs G and H are not isomorphic.\n"
          ]
        }
      ],
      "source": [
        "# Networkz Alorithm\n",
        "from networkx.algorithms.isomorphism import is_isomorphic\n",
        "\n",
        "# Test if G and H are isomorphic using the Weisfeiler-Lehman algorithm.\n",
        "wl_isomorphic = is_isomorphic(G, H, node_match=lambda x, y: x['color'] == y['color'])\n",
        "\n",
        "if wl_isomorphic:\n",
        "    print(\"The graphs G and H are isomorphic.\")\n",
        "else:\n",
        "    print(\"The graphs G and H are not isomorphic.\")\n"
      ]
    },
    {
      "cell_type": "code",
      "execution_count": 33,
      "metadata": {},
      "outputs": [
        {
          "name": "stdout",
          "output_type": "stream",
          "text": [
            "The graphs G and H are not isomorphic.\n"
          ]
        }
      ],
      "source": [
        "# Brute Force Algorithn\n",
        "def is_isomorphic_brute_force(G, H):\n",
        "    if len(G.nodes) != len(H.nodes) or len(G.edges) != len(H.edges):\n",
        "        return False\n",
        "    \n",
        "    nodes_G = set(G.nodes)\n",
        "    nodes_H = set(H.nodes)\n",
        "    \n",
        "    for mapping in permutations(nodes_H, len(nodes_H)):\n",
        "        if nodes_G != set(mapping):\n",
        "            continue\n",
        "            \n",
        "        is_isomorphism = True\n",
        "        for u, v in G.edges:\n",
        "            if (mapping[u], mapping[v]) not in H.edges:\n",
        "                is_isomorphism = False\n",
        "                break\n",
        "        \n",
        "        if is_isomorphism:\n",
        "            node_match = all(G.nodes[u][key] == H.nodes[mapping[u]][key] for u in G)\n",
        "            if node_match:\n",
        "                return True\n",
        "            \n",
        "    return False\n",
        "\n",
        "# Test if G and H are isomorphic using brute force.\n",
        "bf_isomorphic = is_isomorphic_brute_force(G, H)\n",
        "\n",
        "if bf_isomorphic:\n",
        "    print(\"The graphs G and H are isomorphic.\")\n",
        "else:\n",
        "    print(\"The graphs G and H are not isomorphic.\")\n"
      ]
    },
    {
      "cell_type": "markdown",
      "metadata": {},
      "source": [
        "## Refrencess\n",
        "\n",
        "https://networkx.org/documentation/stable/reference/algorithms/isomorphism.html\n",
        "https://stars.library.ucf.edu/cgi/viewcontent.cgi?article=1105&context=istlibrary&httpsredir=1&referer= \n",
        "https://www.educative.io/edpresso/what-is-a-graph-data-structure\n",
        "https://www.tutorialspoint.com/graph_theory/graph_theory_isomorphism.htm\n",
        "https://www.tutorialspoint.com/graph_theory/graph_theory_types_of_graphs.htm\n",
        "https://www.shiksha.com/online-courses/articles/graphs-in-data-structure-types-representation-operations/\n",
        "https://stackoverflow.com/questions/57224281/networkx-isomorphism-return-one-to-one-correspondence\n",
        "\n",
        "\n"
      ]
    }
  ],
  "metadata": {
    "kernelspec": {
      "display_name": "Python 3.10.10 64-bit (microsoft store)",
      "language": "python",
      "name": "python3"
    },
    "language_info": {
      "codemirror_mode": {
        "name": "ipython",
        "version": 3
      },
      "file_extension": ".py",
      "mimetype": "text/x-python",
      "name": "python",
      "nbconvert_exporter": "python",
      "pygments_lexer": "ipython3",
      "version": "3.10.10"
    },
    "vscode": {
      "interpreter": {
        "hash": "a09cfbe1da184d0f7af3839d38d8b0444656c81e00c4112e35b5e08da3441a1d"
      }
    }
  },
  "nbformat": 4,
  "nbformat_minor": 4
}
